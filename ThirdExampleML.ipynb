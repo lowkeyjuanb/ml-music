{
 "cells": [
  {
   "cell_type": "code",
   "execution_count": 5,
   "id": "f8dbdcae-721e-4ded-94f6-100552cde991",
   "metadata": {},
   "outputs": [],
   "source": [
    "## Visualizing decision tree.\n",
    "## Imports ------------------------------------|\n",
    "import pandas as pd\n",
    "from sklearn.tree import DecisionTreeClassifier\n",
    "from sklearn import tree\n",
    "\n",
    "## Data frame based on csv for music preference.\n",
    "music_data = pd.read_csv('music.csv')\n",
    "\n",
    "## Input data. [age, gender]\n",
    "X = music_data.drop(columns = ['genre'])\n",
    "\n",
    "## Output data. [genre]\n",
    "y = music_data['genre']\n",
    "\n",
    "## Training the model by building a decision tree. \n",
    "model = DecisionTreeClassifier()\n",
    "model.fit(\n",
    "    X.values, # Input data.\n",
    "    y # Output data. \n",
    ")\n",
    "\n",
    "## Exporting tree visualization.\n",
    "tree.export_graphviz(model, out_file = 'music_recommender.dot',\n",
    "                    feature_names = ['age', 'gender'], \n",
    "                    class_names = sorted(y.unique()), \n",
    "                    label = 'all',\n",
    "                    rounded = True, \n",
    "                    filled = True \n",
    "                    )"
   ]
  }
 ],
 "metadata": {
  "kernelspec": {
   "display_name": "Python 3 (ipykernel)",
   "language": "python",
   "name": "python3"
  },
  "language_info": {
   "codemirror_mode": {
    "name": "ipython",
    "version": 3
   },
   "file_extension": ".py",
   "mimetype": "text/x-python",
   "name": "python",
   "nbconvert_exporter": "python",
   "pygments_lexer": "ipython3",
   "version": "3.12.7"
  }
 },
 "nbformat": 4,
 "nbformat_minor": 5
}
