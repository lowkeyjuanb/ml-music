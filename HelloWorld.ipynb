{
 "cells": [
  {
   "cell_type": "code",
   "execution_count": 35,
   "id": "f9721df8-bdef-40d3-8cff-d73e6dfeaa9d",
   "metadata": {},
   "outputs": [
    {
     "data": {
      "text/plain": [
       "array(['HipHop', 'Dance'], dtype=object)"
      ]
     },
     "execution_count": 35,
     "metadata": {},
     "output_type": "execute_result"
    }
   ],
   "source": [
    "## Imports ------------------------------------|\n",
    "import pandas as pd\n",
    "from sklearn.tree import DecisionTreeClassifier\n",
    "\n",
    "## Data frame based on csv for music preference.\n",
    "music_data = pd.read_csv('music.csv')\n",
    "\n",
    "## Input data. [age, gender]\n",
    "X = music_data.drop(columns = ['genre'])\n",
    "\n",
    "## Output data. [genre]\n",
    "y = music_data['genre']\n",
    "\n",
    "## Training the model by building a decision tree. \n",
    "model = DecisionTreeClassifier()\n",
    "model.fit(\n",
    "    X.values, # Input data. Here x.values will have only values without headers to prevent warning.\n",
    "    y # Output data. \n",
    ")\n",
    "\n",
    "## Generating predictions for 21 year old male, and 22 year old female. \n",
    "predictions = model.predict([ [21, 1], [22, 0] ], check_input = True)\n",
    "predictions\n",
    "\n",
    "## Additional notes: Use 80/70% for training, and 20/30% for testing."
   ]
  }
 ],
 "metadata": {
  "kernelspec": {
   "display_name": "Python 3 (ipykernel)",
   "language": "python",
   "name": "python3"
  },
  "language_info": {
   "codemirror_mode": {
    "name": "ipython",
    "version": 3
   },
   "file_extension": ".py",
   "mimetype": "text/x-python",
   "name": "python",
   "nbconvert_exporter": "python",
   "pygments_lexer": "ipython3",
   "version": "3.12.7"
  }
 },
 "nbformat": 4,
 "nbformat_minor": 5
}
