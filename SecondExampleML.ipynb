{
 "cells": [
  {
   "cell_type": "code",
   "execution_count": 6,
   "id": "cdef764e-2c5f-40e9-96fe-0940caa7829f",
   "metadata": {},
   "outputs": [
    {
     "data": {
      "text/plain": [
       "array(['HipHop'], dtype=object)"
      ]
     },
     "execution_count": 6,
     "metadata": {},
     "output_type": "execute_result"
    }
   ],
   "source": [
    "## Persisting models.\n",
    "## Imports ------------------------------------|\n",
    "import pandas as pd\n",
    "from sklearn.tree import DecisionTreeClassifier\n",
    "import joblib # For saving and loading models\n",
    "\n",
    "# ## Data frame based on csv for music preference.\n",
    "# music_data = pd.read_csv('music.csv')\n",
    "\n",
    "# ## Input data. [age, gender]\n",
    "# X = music_data.drop(columns = ['genre'])\n",
    "\n",
    "# ## Output data. [genre]\n",
    "# y = music_data['genre']\n",
    "\n",
    "# ## Training the model by building a decision tree. \n",
    "# model = DecisionTreeClassifier()\n",
    "# model.fit(\n",
    "#     X.values, # Input data.\n",
    "#     y # Output data. \n",
    "# )\n",
    "\n",
    "# ## Storing the model\n",
    "# joblib.dump(model, 'music-recommender.joblib')\n",
    "\n",
    "## Loading the model to avoid running the code above everytime.\n",
    "model = joblib.load('music-recommender.joblib')\n",
    "\n",
    "## Generating predictions from the test data.\n",
    "predictions = model.predict( [ [21, 1] ] )\n",
    "predictions"
   ]
  },
  {
   "cell_type": "code",
   "execution_count": null,
   "id": "bd066aca-8ffb-421f-bd0c-431c683563a9",
   "metadata": {},
   "outputs": [],
   "source": []
  }
 ],
 "metadata": {
  "kernelspec": {
   "display_name": "Python 3 (ipykernel)",
   "language": "python",
   "name": "python3"
  },
  "language_info": {
   "codemirror_mode": {
    "name": "ipython",
    "version": 3
   },
   "file_extension": ".py",
   "mimetype": "text/x-python",
   "name": "python",
   "nbconvert_exporter": "python",
   "pygments_lexer": "ipython3",
   "version": "3.12.7"
  }
 },
 "nbformat": 4,
 "nbformat_minor": 5
}
