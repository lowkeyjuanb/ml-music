{
 "cells": [
  {
   "cell_type": "code",
   "execution_count": 23,
   "id": "f9721df8-bdef-40d3-8cff-d73e6dfeaa9d",
   "metadata": {},
   "outputs": [
    {
     "data": {
      "text/plain": [
       "1.0"
      ]
     },
     "execution_count": 23,
     "metadata": {},
     "output_type": "execute_result"
    }
   ],
   "source": [
    "## Imports ------------------------------------|\n",
    "import pandas as pd\n",
    "from sklearn.tree import DecisionTreeClassifier\n",
    "from sklearn.model_selection import train_test_split\n",
    "from sklearn.metrics import accuracy_score\n",
    "\n",
    "## Data frame based on csv for music preference.\n",
    "music_data = pd.read_csv('music.csv')\n",
    "\n",
    "## Input data. [age, gender]\n",
    "X = music_data.drop(columns = ['genre'])\n",
    "\n",
    "## Output data. [genre]\n",
    "y = music_data['genre']\n",
    "\n",
    "## Alocating 20% of data for testing.\n",
    "## Use 80/70% for training, and 20/30% for testing.\n",
    "X_train, X_test, y_train, y_test = train_test_split( X, y, test_size = 0.2 )\n",
    "\n",
    "## Training the model by building a decision tree. \n",
    "model = DecisionTreeClassifier()\n",
    "model.fit(\n",
    "    X_train, # Input data.\n",
    "    y_train # Output data. \n",
    ")\n",
    "\n",
    "## Generating predictions from the test data.\n",
    "predictions = model.predict( X_test )\n",
    "predictions\n",
    "\n",
    "## Prediction accuracy score.\n",
    "score = accuracy_score(y_test, predictions)\n",
    "score"
   ]
  }
 ],
 "metadata": {
  "kernelspec": {
   "display_name": "Python 3 (ipykernel)",
   "language": "python",
   "name": "python3"
  },
  "language_info": {
   "codemirror_mode": {
    "name": "ipython",
    "version": 3
   },
   "file_extension": ".py",
   "mimetype": "text/x-python",
   "name": "python",
   "nbconvert_exporter": "python",
   "pygments_lexer": "ipython3",
   "version": "3.12.7"
  }
 },
 "nbformat": 4,
 "nbformat_minor": 5
}
